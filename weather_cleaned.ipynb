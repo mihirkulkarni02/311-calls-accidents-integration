{
 "cells": [
  {
   "cell_type": "code",
   "execution_count": 1,
   "metadata": {},
   "outputs": [
    {
     "name": "stdout",
     "output_type": "stream",
     "text": [
      "          date  maximum temperature  minimum temperature  average temperature  \\\n",
      "0   2016-01-01                   42                   34                 38.0   \n",
      "1   2016-01-02                   40                   32                 36.0   \n",
      "2   2016-01-03                   45                   35                 40.0   \n",
      "3   2016-01-04                   36                   14                 25.0   \n",
      "4   2016-01-05                   29                   11                 20.0   \n",
      "..         ...                  ...                  ...                  ...   \n",
      "361 2016-12-27                   60                   40                 50.0   \n",
      "362 2016-12-28                   40                   34                 37.0   \n",
      "363 2016-12-29                   46                   33                 39.5   \n",
      "364 2016-12-30                   40                   33                 36.5   \n",
      "365 2016-12-31                   44                   31                 37.5   \n",
      "\n",
      "    precipitation snow fall snow depth  \n",
      "0            0.00       0.0          0  \n",
      "1            0.00       0.0          0  \n",
      "2            0.00       0.0          0  \n",
      "3            0.00       0.0          0  \n",
      "4            0.00       0.0          0  \n",
      "..            ...       ...        ...  \n",
      "361             0         0          0  \n",
      "362             0         0          0  \n",
      "363          0.39         0          0  \n",
      "364          0.01         T          0  \n",
      "365             0         0          0  \n",
      "\n",
      "[366 rows x 7 columns]\n"
     ]
    }
   ],
   "source": [
    "import pandas as pd\n",
    "\n",
    "df = pd.read_csv(\"weather_data.csv\")\n",
    "# Assuming 'date_column' is the name of the column with date strings\n",
    "df['date'] = pd.to_datetime(df['date'], format=\"%d-%m-%Y\")\n",
    "\n",
    "# Now, 'date_column' contains datetime values\n",
    "print(df)\n",
    "\n",
    "df.to_csv(\"final_weather.csv\")\n"
   ]
  }
 ],
 "metadata": {
  "kernelspec": {
   "display_name": "Python 3",
   "language": "python",
   "name": "python3"
  },
  "language_info": {
   "codemirror_mode": {
    "name": "ipython",
    "version": 3
   },
   "file_extension": ".py",
   "mimetype": "text/x-python",
   "name": "python",
   "nbconvert_exporter": "python",
   "pygments_lexer": "ipython3",
   "version": "3.10.1"
  }
 },
 "nbformat": 4,
 "nbformat_minor": 2
}
